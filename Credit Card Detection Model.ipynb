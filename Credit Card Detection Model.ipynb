{
 "cells": [
  {
   "cell_type": "code",
   "execution_count": 19,
   "id": "13c224ce",
   "metadata": {},
   "outputs": [],
   "source": [
    "import numpy as np\n",
    "import pandas as pd\n",
    "from sklearn.model_selection import train_test_split\n",
    "from sklearn.linear_model import LogisticRegression\n",
    "from sklearn.metrics import accuracy_score,confusion_matrix, classification_report"
   ]
  },
  {
   "cell_type": "code",
   "execution_count": 24,
   "id": "d8c02d54",
   "metadata": {},
   "outputs": [],
   "source": [
    "import requests\n",
    "from io import StringIO\n",
    "\n",
    "url='https://drive.google.com/file/d/1SOmIqjhd--_cHYbdoSHYkWsHnPMc96rO/view?usp=sharing'\n",
    "\n",
    "file_id = url.split('/')[-2]\n",
    "dwn_url='https://drive.google.com/uc?export=download&id=' + file_id\n",
    "url2 = requests.get(dwn_url).text\n",
    "csv_raw = StringIO(url2)"
   ]
  },
  {
   "cell_type": "code",
   "execution_count": 25,
   "id": "f1db1254",
   "metadata": {},
   "outputs": [
    {
     "data": {
      "text/plain": [
       "'1SOmIqjhd--_cHYbdoSHYkWsHnPMc96rO'"
      ]
     },
     "execution_count": 25,
     "metadata": {},
     "output_type": "execute_result"
    }
   ],
   "source": [
    "file_id"
   ]
  },
  {
   "cell_type": "code",
   "execution_count": 26,
   "id": "5b8e470f",
   "metadata": {},
   "outputs": [],
   "source": [
    "credit_card = pd.read_csv(csv_raw)"
   ]
  },
  {
   "cell_type": "code",
   "execution_count": 27,
   "id": "ff7a063b",
   "metadata": {},
   "outputs": [
    {
     "data": {
      "text/html": [
       "<div>\n",
       "<style scoped>\n",
       "    .dataframe tbody tr th:only-of-type {\n",
       "        vertical-align: middle;\n",
       "    }\n",
       "\n",
       "    .dataframe tbody tr th {\n",
       "        vertical-align: top;\n",
       "    }\n",
       "\n",
       "    .dataframe thead th {\n",
       "        text-align: right;\n",
       "    }\n",
       "</style>\n",
       "<table border=\"1\" class=\"dataframe\">\n",
       "  <thead>\n",
       "    <tr style=\"text-align: right;\">\n",
       "      <th></th>\n",
       "      <th>&lt;!DOCTYPE html&gt;&lt;html&gt;&lt;head&gt;&lt;title&gt;Google Drive - Virus scan warning&lt;/title&gt;&lt;meta http-equiv=\"content-type\" content=\"text/html; charset=utf-8\"/&gt;&lt;link href=&amp;#47;static&amp;#47;doclist&amp;#47;client&amp;#47;css&amp;#47;591712061&amp;#45;untrustedcontent.css rel=\"stylesheet\" nonce=\"QEJMcR2c2hNl65jL2Ss0Gg\"&gt;&lt;link rel=\"icon\" href=\"//ssl.gstatic.com/images/branding/product/1x/drive_2020q4_32dp.png\"/&gt;&lt;style nonce=\"QEJMcR2c2hNl65jL2Ss0Gg\"&gt;#gbar</th>\n",
       "      <th>#guser{font-size:13px;padding-top:0px !important;}#gbar{height:22px}#guser{padding-bottom:7px !important;text-align:right}.gbh</th>\n",
       "      <th>.gbd{border-top:1px solid #c9d7f1;font-size:1px}.gbh{height:0;position:absolute;top:24px;width:100%}@media all{.gb1{height:22px;margin-right:.5em;vertical-align:top}#gbar{float:left}}a.gb1</th>\n",
       "      <th>a.gb4{text-decoration:underline !important}a.gb1</th>\n",
       "      <th>a.gb4{color:#00c !important}.gbi .gb4{color:#dd8e27 !important}.gbf .gb4{color:#900 !important}</th>\n",
       "    </tr>\n",
       "  </thead>\n",
       "  <tbody>\n",
       "    <tr>\n",
       "      <th>0</th>\n",
       "      <td>&lt;/style&gt;&lt;script nonce=\"ArGQwa+Xgoks9U6GAeLyHw\"...</td>\n",
       "      <td>NaN</td>\n",
       "      <td>NaN</td>\n",
       "      <td>NaN</td>\n",
       "      <td>NaN</td>\n",
       "    </tr>\n",
       "  </tbody>\n",
       "</table>\n",
       "</div>"
      ],
      "text/plain": [
       "  <!DOCTYPE html><html><head><title>Google Drive - Virus scan warning</title><meta http-equiv=\"content-type\" content=\"text/html; charset=utf-8\"/><link href=&#47;static&#47;doclist&#47;client&#47;css&#47;591712061&#45;untrustedcontent.css rel=\"stylesheet\" nonce=\"QEJMcR2c2hNl65jL2Ss0Gg\"><link rel=\"icon\" href=\"//ssl.gstatic.com/images/branding/product/1x/drive_2020q4_32dp.png\"/><style nonce=\"QEJMcR2c2hNl65jL2Ss0Gg\">#gbar  \\\n",
       "0  </style><script nonce=\"ArGQwa+Xgoks9U6GAeLyHw\"...                                                                                                                                                                                                                                                                                                                                                                                    \n",
       "\n",
       "   #guser{font-size:13px;padding-top:0px !important;}#gbar{height:22px}#guser{padding-bottom:7px !important;text-align:right}.gbh  \\\n",
       "0                                                NaN                                                                                \n",
       "\n",
       "   .gbd{border-top:1px solid #c9d7f1;font-size:1px}.gbh{height:0;position:absolute;top:24px;width:100%}@media all{.gb1{height:22px;margin-right:.5em;vertical-align:top}#gbar{float:left}}a.gb1  \\\n",
       "0                                                NaN                                                                                                                                              \n",
       "\n",
       "   a.gb4{text-decoration:underline !important}a.gb1  \\\n",
       "0                                               NaN   \n",
       "\n",
       "   a.gb4{color:#00c !important}.gbi .gb4{color:#dd8e27 !important}.gbf .gb4{color:#900 !important}  \n",
       "0                                                NaN                                                "
      ]
     },
     "execution_count": 27,
     "metadata": {},
     "output_type": "execute_result"
    }
   ],
   "source": [
    "#print first 5 rows of the dataset\n",
    "credit_card.head()"
   ]
  },
  {
   "cell_type": "code",
   "execution_count": 5,
   "id": "dedd809e",
   "metadata": {},
   "outputs": [
    {
     "data": {
      "text/plain": [
       "0    284315\n",
       "1       492\n",
       "Name: Class, dtype: int64"
      ]
     },
     "execution_count": 5,
     "metadata": {},
     "output_type": "execute_result"
    }
   ],
   "source": [
    "credit_card['Class'].value_counts()"
   ]
  },
  {
   "cell_type": "code",
   "execution_count": 6,
   "id": "fc3aff1e",
   "metadata": {},
   "outputs": [
    {
     "data": {
      "text/plain": [
       "Time      0\n",
       "V1        0\n",
       "V2        0\n",
       "V3        0\n",
       "V4        0\n",
       "V5        0\n",
       "V6        0\n",
       "V7        0\n",
       "V8        0\n",
       "V9        0\n",
       "V10       0\n",
       "V11       0\n",
       "V12       0\n",
       "V13       0\n",
       "V14       0\n",
       "V15       0\n",
       "V16       0\n",
       "V17       0\n",
       "V18       0\n",
       "V19       0\n",
       "V20       0\n",
       "V21       0\n",
       "V22       0\n",
       "V23       0\n",
       "V24       0\n",
       "V25       0\n",
       "V26       0\n",
       "V27       0\n",
       "V28       0\n",
       "Amount    0\n",
       "Class     0\n",
       "dtype: int64"
      ]
     },
     "execution_count": 6,
     "metadata": {},
     "output_type": "execute_result"
    }
   ],
   "source": [
    "#check te number of missing values in each column\n",
    "credit_card.isnull().sum()"
   ]
  },
  {
   "cell_type": "code",
   "execution_count": 7,
   "id": "3c33be92",
   "metadata": {},
   "outputs": [],
   "source": [
    "#check distribution of legit transaction and fradulent transaction\n",
    "legit = credit_card[credit_card['Class'] == 0]\n",
    "fraud = credit_card[credit_card['Class'] == 1]"
   ]
  },
  {
   "cell_type": "code",
   "execution_count": 10,
   "id": "6c54bc26",
   "metadata": {},
   "outputs": [
    {
     "data": {
      "text/html": [
       "<div>\n",
       "<style scoped>\n",
       "    .dataframe tbody tr th:only-of-type {\n",
       "        vertical-align: middle;\n",
       "    }\n",
       "\n",
       "    .dataframe tbody tr th {\n",
       "        vertical-align: top;\n",
       "    }\n",
       "\n",
       "    .dataframe thead th {\n",
       "        text-align: right;\n",
       "    }\n",
       "</style>\n",
       "<table border=\"1\" class=\"dataframe\">\n",
       "  <thead>\n",
       "    <tr style=\"text-align: right;\">\n",
       "      <th></th>\n",
       "      <th>Time</th>\n",
       "      <th>V1</th>\n",
       "      <th>V2</th>\n",
       "      <th>V3</th>\n",
       "      <th>V4</th>\n",
       "      <th>V5</th>\n",
       "      <th>V6</th>\n",
       "      <th>V7</th>\n",
       "      <th>V8</th>\n",
       "      <th>V9</th>\n",
       "      <th>...</th>\n",
       "      <th>V20</th>\n",
       "      <th>V21</th>\n",
       "      <th>V22</th>\n",
       "      <th>V23</th>\n",
       "      <th>V24</th>\n",
       "      <th>V25</th>\n",
       "      <th>V26</th>\n",
       "      <th>V27</th>\n",
       "      <th>V28</th>\n",
       "      <th>Amount</th>\n",
       "    </tr>\n",
       "    <tr>\n",
       "      <th>Class</th>\n",
       "      <th></th>\n",
       "      <th></th>\n",
       "      <th></th>\n",
       "      <th></th>\n",
       "      <th></th>\n",
       "      <th></th>\n",
       "      <th></th>\n",
       "      <th></th>\n",
       "      <th></th>\n",
       "      <th></th>\n",
       "      <th></th>\n",
       "      <th></th>\n",
       "      <th></th>\n",
       "      <th></th>\n",
       "      <th></th>\n",
       "      <th></th>\n",
       "      <th></th>\n",
       "      <th></th>\n",
       "      <th></th>\n",
       "      <th></th>\n",
       "      <th></th>\n",
       "    </tr>\n",
       "  </thead>\n",
       "  <tbody>\n",
       "    <tr>\n",
       "      <th>0</th>\n",
       "      <td>94838.202258</td>\n",
       "      <td>0.008258</td>\n",
       "      <td>-0.006271</td>\n",
       "      <td>0.012171</td>\n",
       "      <td>-0.007860</td>\n",
       "      <td>0.005453</td>\n",
       "      <td>0.002419</td>\n",
       "      <td>0.009637</td>\n",
       "      <td>-0.000987</td>\n",
       "      <td>0.004467</td>\n",
       "      <td>...</td>\n",
       "      <td>-0.000644</td>\n",
       "      <td>-0.001235</td>\n",
       "      <td>-0.000024</td>\n",
       "      <td>0.000070</td>\n",
       "      <td>0.000182</td>\n",
       "      <td>-0.000072</td>\n",
       "      <td>-0.000089</td>\n",
       "      <td>-0.000295</td>\n",
       "      <td>-0.000131</td>\n",
       "      <td>88.291022</td>\n",
       "    </tr>\n",
       "    <tr>\n",
       "      <th>1</th>\n",
       "      <td>80746.806911</td>\n",
       "      <td>-4.771948</td>\n",
       "      <td>3.623778</td>\n",
       "      <td>-7.033281</td>\n",
       "      <td>4.542029</td>\n",
       "      <td>-3.151225</td>\n",
       "      <td>-1.397737</td>\n",
       "      <td>-5.568731</td>\n",
       "      <td>0.570636</td>\n",
       "      <td>-2.581123</td>\n",
       "      <td>...</td>\n",
       "      <td>0.372319</td>\n",
       "      <td>0.713588</td>\n",
       "      <td>0.014049</td>\n",
       "      <td>-0.040308</td>\n",
       "      <td>-0.105130</td>\n",
       "      <td>0.041449</td>\n",
       "      <td>0.051648</td>\n",
       "      <td>0.170575</td>\n",
       "      <td>0.075667</td>\n",
       "      <td>122.211321</td>\n",
       "    </tr>\n",
       "  </tbody>\n",
       "</table>\n",
       "<p>2 rows × 30 columns</p>\n",
       "</div>"
      ],
      "text/plain": [
       "               Time        V1        V2        V3        V4        V5  \\\n",
       "Class                                                                   \n",
       "0      94838.202258  0.008258 -0.006271  0.012171 -0.007860  0.005453   \n",
       "1      80746.806911 -4.771948  3.623778 -7.033281  4.542029 -3.151225   \n",
       "\n",
       "             V6        V7        V8        V9  ...       V20       V21  \\\n",
       "Class                                          ...                       \n",
       "0      0.002419  0.009637 -0.000987  0.004467  ... -0.000644 -0.001235   \n",
       "1     -1.397737 -5.568731  0.570636 -2.581123  ...  0.372319  0.713588   \n",
       "\n",
       "            V22       V23       V24       V25       V26       V27       V28  \\\n",
       "Class                                                                         \n",
       "0     -0.000024  0.000070  0.000182 -0.000072 -0.000089 -0.000295 -0.000131   \n",
       "1      0.014049 -0.040308 -0.105130  0.041449  0.051648  0.170575  0.075667   \n",
       "\n",
       "           Amount  \n",
       "Class              \n",
       "0       88.291022  \n",
       "1      122.211321  \n",
       "\n",
       "[2 rows x 30 columns]"
      ]
     },
     "execution_count": 10,
     "metadata": {},
     "output_type": "execute_result"
    }
   ],
   "source": [
    "credit_card.groupby('Class').mean()"
   ]
  },
  {
   "cell_type": "code",
   "execution_count": 11,
   "id": "12e86f72",
   "metadata": {},
   "outputs": [],
   "source": [
    "# Build a sample dataset containing similar distribution of normal and fraud transaction"
   ]
  },
  {
   "cell_type": "code",
   "execution_count": 12,
   "id": "479c4e62",
   "metadata": {},
   "outputs": [],
   "source": [
    "legit_sample = legit.sample(n = 492)"
   ]
  },
  {
   "cell_type": "code",
   "execution_count": 14,
   "id": "3d7fcf5b",
   "metadata": {},
   "outputs": [],
   "source": [
    "final_data = pd.concat([legit_sample,fraud],axis = 0)"
   ]
  },
  {
   "cell_type": "code",
   "execution_count": 15,
   "id": "bdb2db05",
   "metadata": {},
   "outputs": [
    {
     "data": {
      "text/html": [
       "<div>\n",
       "<style scoped>\n",
       "    .dataframe tbody tr th:only-of-type {\n",
       "        vertical-align: middle;\n",
       "    }\n",
       "\n",
       "    .dataframe tbody tr th {\n",
       "        vertical-align: top;\n",
       "    }\n",
       "\n",
       "    .dataframe thead th {\n",
       "        text-align: right;\n",
       "    }\n",
       "</style>\n",
       "<table border=\"1\" class=\"dataframe\">\n",
       "  <thead>\n",
       "    <tr style=\"text-align: right;\">\n",
       "      <th></th>\n",
       "      <th>Time</th>\n",
       "      <th>V1</th>\n",
       "      <th>V2</th>\n",
       "      <th>V3</th>\n",
       "      <th>V4</th>\n",
       "      <th>V5</th>\n",
       "      <th>V6</th>\n",
       "      <th>V7</th>\n",
       "      <th>V8</th>\n",
       "      <th>V9</th>\n",
       "      <th>...</th>\n",
       "      <th>V21</th>\n",
       "      <th>V22</th>\n",
       "      <th>V23</th>\n",
       "      <th>V24</th>\n",
       "      <th>V25</th>\n",
       "      <th>V26</th>\n",
       "      <th>V27</th>\n",
       "      <th>V28</th>\n",
       "      <th>Amount</th>\n",
       "      <th>Class</th>\n",
       "    </tr>\n",
       "  </thead>\n",
       "  <tbody>\n",
       "    <tr>\n",
       "      <th>91303</th>\n",
       "      <td>63405.0</td>\n",
       "      <td>-0.432552</td>\n",
       "      <td>0.924204</td>\n",
       "      <td>2.286751</td>\n",
       "      <td>1.277934</td>\n",
       "      <td>0.158438</td>\n",
       "      <td>0.466416</td>\n",
       "      <td>1.249374</td>\n",
       "      <td>-0.528640</td>\n",
       "      <td>-0.521929</td>\n",
       "      <td>...</td>\n",
       "      <td>-0.168069</td>\n",
       "      <td>-0.055141</td>\n",
       "      <td>-0.263443</td>\n",
       "      <td>0.186871</td>\n",
       "      <td>-0.110123</td>\n",
       "      <td>-0.358127</td>\n",
       "      <td>-0.618433</td>\n",
       "      <td>-0.617011</td>\n",
       "      <td>59.00</td>\n",
       "      <td>0</td>\n",
       "    </tr>\n",
       "    <tr>\n",
       "      <th>46470</th>\n",
       "      <td>42801.0</td>\n",
       "      <td>-0.810894</td>\n",
       "      <td>-1.000670</td>\n",
       "      <td>1.095782</td>\n",
       "      <td>-3.268652</td>\n",
       "      <td>0.049586</td>\n",
       "      <td>-0.873231</td>\n",
       "      <td>-0.262624</td>\n",
       "      <td>0.206625</td>\n",
       "      <td>-0.289502</td>\n",
       "      <td>...</td>\n",
       "      <td>-0.271686</td>\n",
       "      <td>-0.626758</td>\n",
       "      <td>0.072590</td>\n",
       "      <td>-0.369371</td>\n",
       "      <td>0.083288</td>\n",
       "      <td>-0.212296</td>\n",
       "      <td>-0.018649</td>\n",
       "      <td>0.003972</td>\n",
       "      <td>40.74</td>\n",
       "      <td>0</td>\n",
       "    </tr>\n",
       "    <tr>\n",
       "      <th>166070</th>\n",
       "      <td>117842.0</td>\n",
       "      <td>-0.180516</td>\n",
       "      <td>-0.027339</td>\n",
       "      <td>-0.889695</td>\n",
       "      <td>-2.001590</td>\n",
       "      <td>1.225377</td>\n",
       "      <td>-0.652247</td>\n",
       "      <td>1.254111</td>\n",
       "      <td>-0.303809</td>\n",
       "      <td>-1.790423</td>\n",
       "      <td>...</td>\n",
       "      <td>-0.097416</td>\n",
       "      <td>0.102333</td>\n",
       "      <td>-0.162535</td>\n",
       "      <td>-1.064109</td>\n",
       "      <td>-0.204414</td>\n",
       "      <td>0.647769</td>\n",
       "      <td>0.072319</td>\n",
       "      <td>0.171177</td>\n",
       "      <td>67.88</td>\n",
       "      <td>0</td>\n",
       "    </tr>\n",
       "    <tr>\n",
       "      <th>187890</th>\n",
       "      <td>127730.0</td>\n",
       "      <td>-1.697455</td>\n",
       "      <td>1.859041</td>\n",
       "      <td>-1.352809</td>\n",
       "      <td>-1.463517</td>\n",
       "      <td>0.395460</td>\n",
       "      <td>-0.980257</td>\n",
       "      <td>0.643320</td>\n",
       "      <td>0.135753</td>\n",
       "      <td>0.705588</td>\n",
       "      <td>...</td>\n",
       "      <td>0.476561</td>\n",
       "      <td>1.259054</td>\n",
       "      <td>-0.015324</td>\n",
       "      <td>0.602343</td>\n",
       "      <td>-0.547154</td>\n",
       "      <td>-0.732721</td>\n",
       "      <td>-0.792648</td>\n",
       "      <td>0.102245</td>\n",
       "      <td>7.02</td>\n",
       "      <td>0</td>\n",
       "    </tr>\n",
       "    <tr>\n",
       "      <th>284273</th>\n",
       "      <td>172290.0</td>\n",
       "      <td>2.087029</td>\n",
       "      <td>0.164716</td>\n",
       "      <td>-1.765379</td>\n",
       "      <td>0.379349</td>\n",
       "      <td>0.502933</td>\n",
       "      <td>-0.789037</td>\n",
       "      <td>0.189939</td>\n",
       "      <td>-0.233421</td>\n",
       "      <td>0.486187</td>\n",
       "      <td>...</td>\n",
       "      <td>-0.373775</td>\n",
       "      <td>-0.963143</td>\n",
       "      <td>0.319428</td>\n",
       "      <td>0.382252</td>\n",
       "      <td>-0.232924</td>\n",
       "      <td>0.180987</td>\n",
       "      <td>-0.062011</td>\n",
       "      <td>-0.031856</td>\n",
       "      <td>1.29</td>\n",
       "      <td>0</td>\n",
       "    </tr>\n",
       "  </tbody>\n",
       "</table>\n",
       "<p>5 rows × 31 columns</p>\n",
       "</div>"
      ],
      "text/plain": [
       "            Time        V1        V2        V3        V4        V5        V6  \\\n",
       "91303    63405.0 -0.432552  0.924204  2.286751  1.277934  0.158438  0.466416   \n",
       "46470    42801.0 -0.810894 -1.000670  1.095782 -3.268652  0.049586 -0.873231   \n",
       "166070  117842.0 -0.180516 -0.027339 -0.889695 -2.001590  1.225377 -0.652247   \n",
       "187890  127730.0 -1.697455  1.859041 -1.352809 -1.463517  0.395460 -0.980257   \n",
       "284273  172290.0  2.087029  0.164716 -1.765379  0.379349  0.502933 -0.789037   \n",
       "\n",
       "              V7        V8        V9  ...       V21       V22       V23  \\\n",
       "91303   1.249374 -0.528640 -0.521929  ... -0.168069 -0.055141 -0.263443   \n",
       "46470  -0.262624  0.206625 -0.289502  ... -0.271686 -0.626758  0.072590   \n",
       "166070  1.254111 -0.303809 -1.790423  ... -0.097416  0.102333 -0.162535   \n",
       "187890  0.643320  0.135753  0.705588  ...  0.476561  1.259054 -0.015324   \n",
       "284273  0.189939 -0.233421  0.486187  ... -0.373775 -0.963143  0.319428   \n",
       "\n",
       "             V24       V25       V26       V27       V28  Amount  Class  \n",
       "91303   0.186871 -0.110123 -0.358127 -0.618433 -0.617011   59.00      0  \n",
       "46470  -0.369371  0.083288 -0.212296 -0.018649  0.003972   40.74      0  \n",
       "166070 -1.064109 -0.204414  0.647769  0.072319  0.171177   67.88      0  \n",
       "187890  0.602343 -0.547154 -0.732721 -0.792648  0.102245    7.02      0  \n",
       "284273  0.382252 -0.232924  0.180987 -0.062011 -0.031856    1.29      0  \n",
       "\n",
       "[5 rows x 31 columns]"
      ]
     },
     "execution_count": 15,
     "metadata": {},
     "output_type": "execute_result"
    }
   ],
   "source": [
    "final_data.head()"
   ]
  },
  {
   "cell_type": "code",
   "execution_count": 16,
   "id": "b277962b",
   "metadata": {},
   "outputs": [
    {
     "data": {
      "text/plain": [
       "(984, 31)"
      ]
     },
     "execution_count": 16,
     "metadata": {},
     "output_type": "execute_result"
    }
   ],
   "source": [
    "final_data.shape"
   ]
  },
  {
   "cell_type": "code",
   "execution_count": 18,
   "id": "2202e4f4",
   "metadata": {},
   "outputs": [
    {
     "data": {
      "text/plain": [
       "0    492\n",
       "1    492\n",
       "Name: Class, dtype: int64"
      ]
     },
     "execution_count": 18,
     "metadata": {},
     "output_type": "execute_result"
    }
   ],
   "source": [
    "final_data['Class'].value_counts()"
   ]
  },
  {
   "cell_type": "code",
   "execution_count": 19,
   "id": "8a353911",
   "metadata": {},
   "outputs": [],
   "source": [
    "#Split the data into training and test split\n",
    "X = final_data.drop(columns='Class', axis = 1)\n",
    "y = final_data.Class"
   ]
  },
  {
   "cell_type": "code",
   "execution_count": 23,
   "id": "183aebf2",
   "metadata": {},
   "outputs": [],
   "source": [
    "X_train, X_test,y_train,y_test = train_test_split(X,y,test_size = 0.15, stratify = y, random_state = 1)"
   ]
  },
  {
   "cell_type": "code",
   "execution_count": 26,
   "id": "945e88ed",
   "metadata": {},
   "outputs": [
    {
     "name": "stdout",
     "output_type": "stream",
     "text": [
      "(984, 30) (836, 30) (148, 30)\n"
     ]
    }
   ],
   "source": [
    "print(X.shape,X_train.shape,X_test.shape)"
   ]
  },
  {
   "cell_type": "code",
   "execution_count": 27,
   "id": "7c7a9505",
   "metadata": {},
   "outputs": [],
   "source": [
    "#Model training\n",
    "model = LogisticRegression()"
   ]
  },
  {
   "cell_type": "code",
   "execution_count": 28,
   "id": "7d666cbd",
   "metadata": {},
   "outputs": [
    {
     "data": {
      "text/plain": [
       "LogisticRegression()"
      ]
     },
     "execution_count": 28,
     "metadata": {},
     "output_type": "execute_result"
    }
   ],
   "source": [
    "#fit the model\n",
    "model.fit(X_train,y_train)"
   ]
  },
  {
   "cell_type": "code",
   "execution_count": 30,
   "id": "a315fa2c",
   "metadata": {},
   "outputs": [],
   "source": [
    "predictions = model.predict(X_test)"
   ]
  },
  {
   "cell_type": "code",
   "execution_count": 31,
   "id": "b41eda23",
   "metadata": {},
   "outputs": [],
   "source": [
    "#Model evaluation"
   ]
  },
  {
   "cell_type": "code",
   "execution_count": 32,
   "id": "68986220",
   "metadata": {},
   "outputs": [
    {
     "data": {
      "text/plain": [
       "0.9391891891891891"
      ]
     },
     "execution_count": 32,
     "metadata": {},
     "output_type": "execute_result"
    }
   ],
   "source": [
    "accuracy_score(y_test,predictions)"
   ]
  },
  {
   "cell_type": "code",
   "execution_count": 34,
   "id": "9b54dd78",
   "metadata": {},
   "outputs": [
    {
     "name": "stdout",
     "output_type": "stream",
     "text": [
      "              precision    recall  f1-score   support\n",
      "\n",
      "           0       0.89      1.00      0.94        74\n",
      "           1       1.00      0.88      0.94        74\n",
      "\n",
      "    accuracy                           0.94       148\n",
      "   macro avg       0.95      0.94      0.94       148\n",
      "weighted avg       0.95      0.94      0.94       148\n",
      "\n"
     ]
    }
   ],
   "source": [
    "print(classification_report(y_test, predictions))"
   ]
  },
  {
   "cell_type": "code",
   "execution_count": 35,
   "id": "c5e339b8",
   "metadata": {},
   "outputs": [
    {
     "name": "stdout",
     "output_type": "stream",
     "text": [
      "[[74  0]\n",
      " [ 9 65]]\n"
     ]
    }
   ],
   "source": [
    "print(confusion_matrix(y_test, predictions))"
   ]
  },
  {
   "cell_type": "code",
   "execution_count": null,
   "id": "ba2e0ef8",
   "metadata": {},
   "outputs": [],
   "source": []
  }
 ],
 "metadata": {
  "kernelspec": {
   "display_name": "Python 3",
   "language": "python",
   "name": "python3"
  },
  "language_info": {
   "codemirror_mode": {
    "name": "ipython",
    "version": 3
   },
   "file_extension": ".py",
   "mimetype": "text/x-python",
   "name": "python",
   "nbconvert_exporter": "python",
   "pygments_lexer": "ipython3",
   "version": "3.8.8"
  }
 },
 "nbformat": 4,
 "nbformat_minor": 5
}
